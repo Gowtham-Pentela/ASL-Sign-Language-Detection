{
 "cells": [
  {
   "cell_type": "code",
   "execution_count": 1,
   "metadata": {},
   "outputs": [
    {
     "name": "stdout",
     "output_type": "stream",
     "text": [
      "Found 132554 images belonging to 28 classes.\n",
      "Found 33132 images belonging to 28 classes.\n"
     ]
    },
    {
     "name": "stderr",
     "output_type": "stream",
     "text": [
      "c:\\Users\\Gpentela\\AppData\\Local\\Programs\\Python\\Python39\\lib\\site-packages\\keras\\src\\layers\\convolutional\\base_conv.py:107: UserWarning: Do not pass an `input_shape`/`input_dim` argument to a layer. When using Sequential models, prefer using an `Input(shape)` object as the first layer in the model instead.\n",
      "  super().__init__(activity_regularizer=activity_regularizer, **kwargs)\n"
     ]
    },
    {
     "name": "stdout",
     "output_type": "stream",
     "text": [
      "Epoch 1/10\n"
     ]
    },
    {
     "name": "stderr",
     "output_type": "stream",
     "text": [
      "c:\\Users\\Gpentela\\AppData\\Local\\Programs\\Python\\Python39\\lib\\site-packages\\keras\\src\\trainers\\data_adapters\\py_dataset_adapter.py:122: UserWarning: Your `PyDataset` class should call `super().__init__(**kwargs)` in its constructor. `**kwargs` can include `workers`, `use_multiprocessing`, `max_queue_size`. Do not pass these arguments to `fit()`, as they will be ignored.\n",
      "  self._warn_if_super_not_called()\n"
     ]
    },
    {
     "name": "stdout",
     "output_type": "stream",
     "text": [
      "\u001b[1m4143/4143\u001b[0m \u001b[32m━━━━━━━━━━━━━━━━━━━━\u001b[0m\u001b[37m\u001b[0m \u001b[1m1053s\u001b[0m 254ms/step - accuracy: 0.5915 - loss: 1.3043 - val_accuracy: 0.9569 - val_loss: 0.1278\n",
      "Epoch 2/10\n",
      "\u001b[1m4143/4143\u001b[0m \u001b[32m━━━━━━━━━━━━━━━━━━━━\u001b[0m\u001b[37m\u001b[0m \u001b[1m296s\u001b[0m 71ms/step - accuracy: 0.9542 - loss: 0.1351 - val_accuracy: 0.9791 - val_loss: 0.0635\n",
      "Epoch 3/10\n",
      "\u001b[1m4143/4143\u001b[0m \u001b[32m━━━━━━━━━━━━━━━━━━━━\u001b[0m\u001b[37m\u001b[0m \u001b[1m304s\u001b[0m 73ms/step - accuracy: 0.9755 - loss: 0.0753 - val_accuracy: 0.9824 - val_loss: 0.0559\n",
      "Epoch 4/10\n",
      "\u001b[1m4143/4143\u001b[0m \u001b[32m━━━━━━━━━━━━━━━━━━━━\u001b[0m\u001b[37m\u001b[0m \u001b[1m305s\u001b[0m 74ms/step - accuracy: 0.9833 - loss: 0.0554 - val_accuracy: 0.9875 - val_loss: 0.0375\n",
      "Epoch 5/10\n",
      "\u001b[1m4143/4143\u001b[0m \u001b[32m━━━━━━━━━━━━━━━━━━━━\u001b[0m\u001b[37m\u001b[0m \u001b[1m304s\u001b[0m 73ms/step - accuracy: 0.9864 - loss: 0.0426 - val_accuracy: 0.9857 - val_loss: 0.0603\n",
      "Epoch 6/10\n",
      "\u001b[1m4143/4143\u001b[0m \u001b[32m━━━━━━━━━━━━━━━━━━━━\u001b[0m\u001b[37m\u001b[0m \u001b[1m300s\u001b[0m 72ms/step - accuracy: 0.9891 - loss: 0.0358 - val_accuracy: 0.9853 - val_loss: 0.0455\n",
      "Epoch 7/10\n",
      "\u001b[1m4143/4143\u001b[0m \u001b[32m━━━━━━━━━━━━━━━━━━━━\u001b[0m\u001b[37m\u001b[0m \u001b[1m305s\u001b[0m 74ms/step - accuracy: 0.9904 - loss: 0.0318 - val_accuracy: 0.9921 - val_loss: 0.0262\n",
      "Epoch 8/10\n",
      "\u001b[1m4143/4143\u001b[0m \u001b[32m━━━━━━━━━━━━━━━━━━━━\u001b[0m\u001b[37m\u001b[0m \u001b[1m312s\u001b[0m 75ms/step - accuracy: 0.9911 - loss: 0.0284 - val_accuracy: 0.9898 - val_loss: 0.0397\n",
      "Epoch 9/10\n",
      "\u001b[1m4143/4143\u001b[0m \u001b[32m━━━━━━━━━━━━━━━━━━━━\u001b[0m\u001b[37m\u001b[0m \u001b[1m312s\u001b[0m 75ms/step - accuracy: 0.9924 - loss: 0.0257 - val_accuracy: 0.9856 - val_loss: 0.0490\n",
      "Epoch 10/10\n",
      "\u001b[1m4143/4143\u001b[0m \u001b[32m━━━━━━━━━━━━━━━━━━━━\u001b[0m\u001b[37m\u001b[0m \u001b[1m311s\u001b[0m 75ms/step - accuracy: 0.9928 - loss: 0.0255 - val_accuracy: 0.9887 - val_loss: 0.0429\n"
     ]
    },
    {
     "name": "stderr",
     "output_type": "stream",
     "text": [
      "WARNING:absl:You are saving your model as an HDF5 file via `model.save()` or `keras.saving.save_model(model)`. This file format is considered legacy. We recommend using instead the native Keras format, e.g. `model.save('my_model.keras')` or `keras.saving.save_model(model, 'my_model.keras')`. \n"
     ]
    }
   ],
   "source": [
    "import tensorflow as tf\n",
    "from tensorflow.keras.models import Sequential\n",
    "from tensorflow.keras.layers import Conv2D, MaxPooling2D, Flatten, Dense, Dropout\n",
    "from tensorflow.keras.preprocessing.image import ImageDataGenerator\n",
    "\n",
    "IMG_SIZE = 64\n",
    "BATCH_SIZE = 32\n",
    "\n",
    "\n",
    "train_datagen = ImageDataGenerator(rescale=1./255, rotation_range=20, zoom_range=0.2, \n",
    "                                   width_shift_range=0.2, height_shift_range=0.2, validation_split=0.2)\n",
    "\n",
    "train_generator = train_datagen.flow_from_directory(\n",
    "    'data\\ASL_Dataset',  \n",
    "    target_size=(IMG_SIZE, IMG_SIZE),\n",
    "    batch_size=BATCH_SIZE,\n",
    "    class_mode='categorical',\n",
    "    subset='training')\n",
    "\n",
    "val_generator = train_datagen.flow_from_directory(\n",
    "    'data\\ASL_Dataset', \n",
    "    target_size=(IMG_SIZE, IMG_SIZE),\n",
    "    batch_size=BATCH_SIZE,\n",
    "    class_mode='categorical',\n",
    "    subset='validation')\n",
    "\n",
    " \n",
    "model = Sequential([\n",
    "    Conv2D(32, (3, 3), activation='relu', input_shape=(IMG_SIZE, IMG_SIZE, 3)),\n",
    "    MaxPooling2D(pool_size=(2, 2)),\n",
    "    Conv2D(64, (3, 3), activation='relu'),\n",
    "    MaxPooling2D(pool_size=(2, 2)),\n",
    "    Conv2D(128, (3, 3), activation='relu'),\n",
    "    MaxPooling2D(pool_size=(2, 2)),\n",
    "    Flatten(),\n",
    "    Dense(256, activation='relu'),\n",
    "    Dropout(0.5),\n",
    "    Dense(train_generator.num_classes, activation='softmax')\n",
    "])\n",
    "\n",
    "\n",
    "model.compile(optimizer='adam', loss='categorical_crossentropy', metrics=['accuracy'])\n",
    "\n",
    "\n",
    "model.fit(train_generator, validation_data=val_generator, epochs=10)\n",
    "\n",
    "\n",
    "model.save('asl_model.h5')\n"
   ]
  },
  {
   "cell_type": "code",
   "execution_count": 3,
   "metadata": {},
   "outputs": [
    {
     "name": "stderr",
     "output_type": "stream",
     "text": [
      "WARNING:absl:You are saving your model as an HDF5 file via `model.save()` or `keras.saving.save_model(model)`. This file format is considered legacy. We recommend using instead the native Keras format, e.g. `model.save('my_model.keras')` or `keras.saving.save_model(model, 'my_model.keras')`. \n"
     ]
    }
   ],
   "source": [
    "import json\n",
    "\n",
    "# Save class labels to a JSON file after defining train_generator\n",
    "with open('class_labels.json', 'w') as f:\n",
    "    json.dump(train_generator.class_indices, f)\n",
    "\n",
    "# You can add this after model.fit()\n",
    "model.save('asl_model.h5')\n"
   ]
  },
  {
   "cell_type": "code",
   "execution_count": 5,
   "metadata": {},
   "outputs": [],
   "source": [
    "import cv2\n",
    "import numpy as np\n",
    "import math\n",
    "\n",
    "# Webcam feed setup\n",
    "cap = cv2.VideoCapture(0)\n",
    "\n",
    "while cap.isOpened():\n",
    "    ret, frame = cap.read()\n",
    "    \n",
    "    if not ret:\n",
    "        break\n",
    "\n",
    "    # Flip the frame horizontally to create a mirror effect\n",
    "    frame = cv2.flip(frame, 1)\n",
    "\n",
    "    # Define the region of interest (ROI) for hand detection (optional)\n",
    "    roi = frame[100:400, 100:400]\n",
    "\n",
    "    # Convert the frame to grayscale\n",
    "    gray = cv2.cvtColor(roi, cv2.COLOR_BGR2GRAY)\n",
    "\n",
    "    # Apply Gaussian blur to smooth the image\n",
    "    blurred = cv2.GaussianBlur(gray, (35, 35), 0)\n",
    "\n",
    "    # Apply thresholding to get binary image\n",
    "    _, thresholded = cv2.threshold(blurred, 127, 255, cv2.THRESH_BINARY_INV + cv2.THRESH_OTSU)\n",
    "\n",
    "    # Find contours from the binary image\n",
    "    contours, _ = cv2.findContours(thresholded.copy(), cv2.RETR_TREE, cv2.CHAIN_APPROX_SIMPLE)\n",
    "\n",
    "    # Find the largest contour (which should be the hand)\n",
    "    if len(contours) > 0:\n",
    "        max_contour = max(contours, key=cv2.contourArea)\n",
    "\n",
    "        # Get the convex hull of the largest contour\n",
    "        hull = cv2.convexHull(max_contour)\n",
    "\n",
    "        # Draw contours and hull\n",
    "        cv2.drawContours(roi, [max_contour], -1, (0, 255, 0), 2)\n",
    "        cv2.drawContours(roi, [hull], -1, (0, 0, 255), 2)\n",
    "\n",
    "        # Get convexity defects (the points between fingers)\n",
    "        hull_indices = cv2.convexHull(max_contour, returnPoints=False)\n",
    "        defects = cv2.convexityDefects(max_contour, hull_indices)\n",
    "\n",
    "        if defects is not None:\n",
    "            count_fingers = 0\n",
    "\n",
    "            # Loop over all detected defects\n",
    "            for i in range(defects.shape[0]):\n",
    "                s, e, f, d = defects[i][0]\n",
    "                start = tuple(max_contour[s][0])\n",
    "                end = tuple(max_contour[e][0])\n",
    "                far = tuple(max_contour[f][0])\n",
    "\n",
    "                # Calculate the angle between the start, end, and far points (to detect fingers)\n",
    "                a = math.dist(start, end)\n",
    "                b = math.dist(far, start)\n",
    "                c = math.dist(far, end)\n",
    "\n",
    "                angle = math.acos((b**2 + c**2 - a**2) / (2 * b * c))\n",
    "\n",
    "                # If the angle is less than 90 degrees, it's likely between two fingers\n",
    "                if angle <= math.pi / 2:\n",
    "                    count_fingers += 1\n",
    "                    cv2.circle(roi, far, 5, (0, 0, 255), -1)\n",
    "\n",
    "            # Display the number of fingers detected\n",
    "            cv2.putText(frame, f'Fingers: {count_fingers + 1}', (50, 50), cv2.FONT_HERSHEY_SIMPLEX, 1, (0, 255, 0), 2)\n",
    "\n",
    "    # Display the frame\n",
    "    cv2.imshow('Finger Detection', frame)\n",
    "\n",
    "    # Exit when 'q' is pressed\n",
    "    if cv2.waitKey(1) & 0xFF == ord('q'):\n",
    "        break\n",
    "\n",
    "# Release the webcam and close windows\n",
    "cap.release()\n",
    "cv2.destroyAllWindows()\n"
   ]
  }
 ],
 "metadata": {
  "kernelspec": {
   "display_name": "Python 3",
   "language": "python",
   "name": "python3"
  },
  "language_info": {
   "codemirror_mode": {
    "name": "ipython",
    "version": 3
   },
   "file_extension": ".py",
   "mimetype": "text/x-python",
   "name": "python",
   "nbconvert_exporter": "python",
   "pygments_lexer": "ipython3",
   "version": "3.9.11"
  }
 },
 "nbformat": 4,
 "nbformat_minor": 2
}
