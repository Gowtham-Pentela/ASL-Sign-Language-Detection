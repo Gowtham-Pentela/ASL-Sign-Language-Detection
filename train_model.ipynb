{
 "cells": [
  {
   "cell_type": "code",
   "execution_count": 2,
   "metadata": {},
   "outputs": [
    {
     "name": "stdout",
     "output_type": "stream",
     "text": [
      "Epoch 1/10\n"
     ]
    },
    {
     "name": "stderr",
     "output_type": "stream",
     "text": [
      "/Library/Frameworks/Python.framework/Versions/3.12/lib/python3.12/site-packages/keras/src/layers/convolutional/base_conv.py:107: UserWarning: Do not pass an `input_shape`/`input_dim` argument to a layer. When using Sequential models, prefer using an `Input(shape)` object as the first layer in the model instead.\n",
      "  super().__init__(activity_regularizer=activity_regularizer, **kwargs)\n"
     ]
    },
    {
     "name": "stdout",
     "output_type": "stream",
     "text": [
      "\u001b[1m3309/3309\u001b[0m \u001b[32m━━━━━━━━━━━━━━━━━━━━\u001b[0m\u001b[37m\u001b[0m \u001b[1m6s\u001b[0m 2ms/step - accuracy: 0.6815 - loss: 1.0704 - val_accuracy: 0.9993 - val_loss: 0.0053\n",
      "Epoch 2/10\n",
      "\u001b[1m3309/3309\u001b[0m \u001b[32m━━━━━━━━━━━━━━━━━━━━\u001b[0m\u001b[37m\u001b[0m \u001b[1m6s\u001b[0m 2ms/step - accuracy: 0.9863 - loss: 0.0435 - val_accuracy: 0.9987 - val_loss: 0.0049\n",
      "Epoch 3/10\n",
      "\u001b[1m3309/3309\u001b[0m \u001b[32m━━━━━━━━━━━━━━━━━━━━\u001b[0m\u001b[37m\u001b[0m \u001b[1m6s\u001b[0m 2ms/step - accuracy: 0.9905 - loss: 0.0299 - val_accuracy: 0.9996 - val_loss: 0.0015\n",
      "Epoch 4/10\n",
      "\u001b[1m3309/3309\u001b[0m \u001b[32m━━━━━━━━━━━━━━━━━━━━\u001b[0m\u001b[37m\u001b[0m \u001b[1m5s\u001b[0m 2ms/step - accuracy: 0.9936 - loss: 0.0192 - val_accuracy: 0.9988 - val_loss: 0.0032\n",
      "Epoch 5/10\n",
      "\u001b[1m3309/3309\u001b[0m \u001b[32m━━━━━━━━━━━━━━━━━━━━\u001b[0m\u001b[37m\u001b[0m \u001b[1m5s\u001b[0m 2ms/step - accuracy: 0.9951 - loss: 0.0150 - val_accuracy: 0.9997 - val_loss: 0.0011\n",
      "Epoch 6/10\n",
      "\u001b[1m3309/3309\u001b[0m \u001b[32m━━━━━━━━━━━━━━━━━━━━\u001b[0m\u001b[37m\u001b[0m \u001b[1m6s\u001b[0m 2ms/step - accuracy: 0.9960 - loss: 0.0124 - val_accuracy: 0.9999 - val_loss: 2.6420e-04\n",
      "Epoch 7/10\n",
      "\u001b[1m3309/3309\u001b[0m \u001b[32m━━━━━━━━━━━━━━━━━━━━\u001b[0m\u001b[37m\u001b[0m \u001b[1m6s\u001b[0m 2ms/step - accuracy: 0.9963 - loss: 0.0103 - val_accuracy: 0.9999 - val_loss: 5.1516e-04\n",
      "Epoch 8/10\n",
      "\u001b[1m3309/3309\u001b[0m \u001b[32m━━━━━━━━━━━━━━━━━━━━\u001b[0m\u001b[37m\u001b[0m \u001b[1m6s\u001b[0m 2ms/step - accuracy: 0.9971 - loss: 0.0089 - val_accuracy: 0.9999 - val_loss: 3.7421e-04\n",
      "Epoch 9/10\n",
      "\u001b[1m3309/3309\u001b[0m \u001b[32m━━━━━━━━━━━━━━━━━━━━\u001b[0m\u001b[37m\u001b[0m \u001b[1m6s\u001b[0m 2ms/step - accuracy: 0.9968 - loss: 0.0085 - val_accuracy: 0.9999 - val_loss: 2.6795e-04\n",
      "Epoch 10/10\n",
      "\u001b[1m3309/3309\u001b[0m \u001b[32m━━━━━━━━━━━━━━━━━━━━\u001b[0m\u001b[37m\u001b[0m \u001b[1m6s\u001b[0m 2ms/step - accuracy: 0.9976 - loss: 0.0071 - val_accuracy: 0.9999 - val_loss: 1.1828e-04\n"
     ]
    },
    {
     "name": "stderr",
     "output_type": "stream",
     "text": [
      "WARNING:absl:You are saving your model as an HDF5 file via `model.save()` or `keras.saving.save_model(model)`. This file format is considered legacy. We recommend using instead the native Keras format, e.g. `model.save('my_model.keras')` or `keras.saving.save_model(model, 'my_model.keras')`. \n"
     ]
    },
    {
     "name": "stdout",
     "output_type": "stream",
     "text": [
      "Model trained and saved to asl_cnn_model.h5\n"
     ]
    }
   ],
   "source": [
    "import pickle\n",
    "import numpy as np\n",
    "import tensorflow as tf\n",
    "from sklearn.model_selection import train_test_split\n",
    "from tensorflow.keras.models import Sequential\n",
    "from tensorflow.keras.layers import Dense, Dropout, Flatten\n",
    "from tensorflow.keras.layers import Conv1D, MaxPooling1D\n",
    "from tensorflow.keras.utils import to_categorical\n",
    "\n",
    "# Load data from pickle file\n",
    "with open('label_dict.pickle', 'rb') as f:\n",
    "    data_dict = pickle.load(f)\n",
    "\n",
    "data = np.array(data_dict['data'])\n",
    "labels = np.array(data_dict['labels'])\n",
    "\n",
    "# Reshape the data for 1D convolution (42 landmarks and 1 feature per landmark)\n",
    "X = np.array(data).reshape(-1, 42, 1)  # (num_samples, 42, 1)\n",
    "y = to_categorical(labels)  # Convert labels to one-hot encoding\n",
    "\n",
    "# Split the data into training and testing sets\n",
    "X_train, X_test, y_train, y_test = train_test_split(X, y, test_size=0.15, random_state=22)\n",
    "\n",
    "# Create the CNN model using Conv1D\n",
    "def create_cnn_model():\n",
    "    model = Sequential()\n",
    "\n",
    "    # Convolution layers for 1D data\n",
    "    model.add(Conv1D(32, kernel_size=3, activation='relu', input_shape=(42, 1)))  # Conv1D instead of Conv2D\n",
    "    model.add(MaxPooling1D(pool_size=2))\n",
    "    \n",
    "    model.add(Conv1D(64, kernel_size=3, activation='relu'))\n",
    "    model.add(MaxPooling1D(pool_size=2))\n",
    "    \n",
    "    # Flatten and Fully connected layers\n",
    "    model.add(Flatten())\n",
    "    model.add(Dense(128, activation='relu'))\n",
    "    model.add(Dropout(0.5))\n",
    "    model.add(Dense(y.shape[1], activation='softmax'))  # Adjust output for the number of classes\n",
    "\n",
    "    model.compile(loss='categorical_crossentropy', optimizer='adam', metrics=['accuracy'])\n",
    "    return model\n",
    "\n",
    "# Train the model\n",
    "def train_model():\n",
    "    model = create_cnn_model()\n",
    "    model.fit(X_train, y_train, batch_size=32, epochs=10, verbose=1, validation_data=(X_test, y_test))\n",
    "\n",
    "    # Save the trained model\n",
    "    model.save('asl_cnn_model.h5')\n",
    "    print(\"Model trained and saved to asl_cnn_model.h5\")\n",
    "\n",
    "if __name__ == \"__main__\":\n",
    "    train_model()\n"
   ]
  }
 ],
 "metadata": {
  "kernelspec": {
   "display_name": "Python 3",
   "language": "python",
   "name": "python3"
  },
  "language_info": {
   "codemirror_mode": {
    "name": "ipython",
    "version": 3
   },
   "file_extension": ".py",
   "mimetype": "text/x-python",
   "name": "python",
   "nbconvert_exporter": "python",
   "pygments_lexer": "ipython3",
   "version": "3.12.6"
  }
 },
 "nbformat": 4,
 "nbformat_minor": 2
}
