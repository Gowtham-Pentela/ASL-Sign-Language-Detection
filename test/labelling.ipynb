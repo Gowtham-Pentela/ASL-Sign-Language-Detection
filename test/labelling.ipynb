{
 "cells": [
  {
   "cell_type": "code",
   "execution_count": 6,
   "metadata": {},
   "outputs": [
    {
     "name": "stdout",
     "output_type": "stream",
     "text": [
      "Processing A...\n"
     ]
    },
    {
     "name": "stderr",
     "output_type": "stream",
     "text": [
      "c:\\Users\\Gpentela\\AppData\\Local\\Programs\\Python\\Python39\\lib\\site-packages\\google\\protobuf\\symbol_database.py:55: UserWarning: SymbolDatabase.GetPrototype() is deprecated. Please use message_factory.GetMessageClass() instead. SymbolDatabase.GetPrototype() will be removed soon.\n",
      "  warnings.warn('SymbolDatabase.GetPrototype() is deprecated. Please '\n"
     ]
    },
    {
     "name": "stdout",
     "output_type": "stream",
     "text": [
      "Processing B...\n",
      "Processing C...\n",
      "Processing D...\n",
      "Processing E...\n",
      "Processing F...\n",
      "Processing G...\n",
      "Processing H...\n",
      "Processing I...\n",
      "Processing J...\n",
      "Processing K...\n",
      "Processing L...\n",
      "Processing M...\n",
      "Processing N...\n",
      "Processing Nothing...\n",
      "Processing O...\n",
      "Processing P...\n",
      "Processing Q...\n",
      "Processing R...\n",
      "Processing S...\n",
      "Processing Space...\n",
      "Processing T...\n",
      "Processing U...\n",
      "Processing V...\n",
      "Processing W...\n",
      "Processing X...\n",
      "Processing Y...\n",
      "Processing Z...\n",
      "Labeling completed and saved to data_optimized.pickle\n"
     ]
    }
   ],
   "source": [
    "# label_data.py\n",
    "import os\n",
    "import cv2\n",
    "import pickle\n",
    "import numpy as np\n",
    "import mediapipe as mp\n",
    "\n",
    "# Initialize MediaPipe hands\n",
    "mp_hands = mp.solutions.hands\n",
    "hands = mp_hands.Hands(static_image_mode=True, min_detection_confidence=0.9)\n",
    "\n",
    "data_dir = '../data/ASL_Dataset'\n",
    "data = []\n",
    "labels = []\n",
    "label_dict = {}\n",
    "\n",
    "# Create label mapping\n",
    "labels_to_process = [label for label in sorted(os.listdir(data_dir)) if label != '.DS_Store']\n",
    "for idx, label in enumerate(labels_to_process):\n",
    "    label_dict[label] = idx\n",
    "\n",
    "def process_image(image_path, label):\n",
    "    img = cv2.imread(image_path)\n",
    "    img_rgb = cv2.cvtColor(img, cv2.COLOR_BGR2RGB)\n",
    "    \n",
    "    data_aux = []\n",
    "    results = hands.process(img_rgb)\n",
    "    \n",
    "    if results.multi_hand_landmarks:\n",
    "        for hand_landmarks in results.multi_hand_landmarks:\n",
    "            for z in range(len(hand_landmarks.landmark)):\n",
    "                x = hand_landmarks.landmark[z].x\n",
    "                y = hand_landmarks.landmark[z].y\n",
    "                data_aux.append(x)\n",
    "                data_aux.append(y)\n",
    "        return data_aux, label\n",
    "    return None, None\n",
    "\n",
    "# Main function to process labels and save data\n",
    "def create_labels():\n",
    "    global data, labels\n",
    "    \n",
    "    # Loop through labels and process images sequentially\n",
    "    for label in labels_to_process:\n",
    "        folder_path = os.path.join(data_dir, label)\n",
    "        all_images = [os.path.join(folder_path, img) for img in os.listdir(folder_path)]\n",
    "        \n",
    "        print(f\"Processing {label}...\")\n",
    "        \n",
    "        for image_path in all_images:\n",
    "            data_aux, processed_label = process_image(image_path, label_dict[label])\n",
    "            if data_aux is not None:\n",
    "                data.append(data_aux)\n",
    "                labels.append(processed_label)\n",
    "\n",
    "    # Convert to numpy arrays and save\n",
    "    data = np.array(data)\n",
    "    labels = np.array(labels)\n",
    "\n",
    "    # Save data to pickle\n",
    "    with open('data_optimized.pickle', 'wb') as f:\n",
    "        pickle.dump({'data': data, 'labels': labels}, f)\n",
    "    print(\"Labeling completed and saved to data_optimized.pickle\")\n",
    "\n",
    "if __name__ == \"__main__\":\n",
    "    create_labels()\n"
   ]
  }
 ],
 "metadata": {
  "kernelspec": {
   "display_name": "Python 3",
   "language": "python",
   "name": "python3"
  },
  "language_info": {
   "codemirror_mode": {
    "name": "ipython",
    "version": 3
   },
   "file_extension": ".py",
   "mimetype": "text/x-python",
   "name": "python",
   "nbconvert_exporter": "python",
   "pygments_lexer": "ipython3",
   "version": "3.9.11"
  }
 },
 "nbformat": 4,
 "nbformat_minor": 2
}
